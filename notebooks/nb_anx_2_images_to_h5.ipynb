{
 "cells": [
  {
   "cell_type": "code",
   "execution_count": 1,
   "metadata": {},
   "outputs": [],
   "source": [
    "import h5py, cv2, os, sys\n",
    "import numpy as np\n",
    "import pandas as pd\n",
    "\n",
    "from sklearn.model_selection import train_test_split\n",
    "\n",
    "sys.path.append(\"../\")\n"
   ]
  },
  {
   "cell_type": "code",
   "execution_count": 2,
   "metadata": {},
   "outputs": [],
   "source": [
    "pkl_path = \"../data/ecommerce_cleaned.pkl\"\n",
    "df = pd.read_pickle(filepath_or_buffer=pkl_path)\n"
   ]
  },
  {
   "cell_type": "code",
   "execution_count": 3,
   "metadata": {},
   "outputs": [
    {
     "data": {
      "text/html": [
       "<div>\n",
       "<style scoped>\n",
       "    .dataframe tbody tr th:only-of-type {\n",
       "        vertical-align: middle;\n",
       "    }\n",
       "\n",
       "    .dataframe tbody tr th {\n",
       "        vertical-align: top;\n",
       "    }\n",
       "\n",
       "    .dataframe thead th {\n",
       "        text-align: right;\n",
       "    }\n",
       "</style>\n",
       "<table border=\"1\" class=\"dataframe\">\n",
       "  <thead>\n",
       "    <tr style=\"text-align: right;\">\n",
       "      <th></th>\n",
       "      <th>product_name</th>\n",
       "      <th>doc_desc</th>\n",
       "      <th>lem_desc</th>\n",
       "      <th>first_category</th>\n",
       "      <th>product_specifications</th>\n",
       "      <th>image</th>\n",
       "      <th>description</th>\n",
       "      <th>category_tree</th>\n",
       "    </tr>\n",
       "  </thead>\n",
       "  <tbody>\n",
       "    <tr>\n",
       "      <th>0</th>\n",
       "      <td>Elegance Polyester Multicolor Abstract Eyelet ...</td>\n",
       "      <td>(key, elegance, polyester, multicolor, abstrac...</td>\n",
       "      <td>[key, elegance, polyester, multicolor, abstrac...</td>\n",
       "      <td>home furnishing</td>\n",
       "      <td>{\"product_specification\"=&gt;[{\"key\"=&gt;\"Brand\", \"v...</td>\n",
       "      <td>55b85ea15a1536d46b7190ad6fff8ce7.jpg</td>\n",
       "      <td>Key Features of Elegance Polyester Multicolor ...</td>\n",
       "      <td>[Home Furnishing, Curtains &amp; Accessories, Curt...</td>\n",
       "    </tr>\n",
       "  </tbody>\n",
       "</table>\n",
       "</div>"
      ],
      "text/plain": [
       "                                        product_name  \\\n",
       "0  Elegance Polyester Multicolor Abstract Eyelet ...   \n",
       "\n",
       "                                            doc_desc  \\\n",
       "0  (key, elegance, polyester, multicolor, abstrac...   \n",
       "\n",
       "                                            lem_desc   first_category  \\\n",
       "0  [key, elegance, polyester, multicolor, abstrac...  home furnishing   \n",
       "\n",
       "                              product_specifications  \\\n",
       "0  {\"product_specification\"=>[{\"key\"=>\"Brand\", \"v...   \n",
       "\n",
       "                                  image  \\\n",
       "0  55b85ea15a1536d46b7190ad6fff8ce7.jpg   \n",
       "\n",
       "                                         description  \\\n",
       "0  Key Features of Elegance Polyester Multicolor ...   \n",
       "\n",
       "                                       category_tree  \n",
       "0  [Home Furnishing, Curtains & Accessories, Curt...  "
      ]
     },
     "execution_count": 3,
     "metadata": {},
     "output_type": "execute_result"
    }
   ],
   "source": [
    "df.head(n=1)\n"
   ]
  },
  {
   "cell_type": "code",
   "execution_count": 4,
   "metadata": {},
   "outputs": [
    {
     "data": {
      "text/plain": [
       "Index(['product_name', 'doc_desc', 'lem_desc', 'first_category',\n",
       "       'product_specifications', 'image', 'description', 'category_tree'],\n",
       "      dtype='object')"
      ]
     },
     "execution_count": 4,
     "metadata": {},
     "output_type": "execute_result"
    }
   ],
   "source": [
    "df.columns"
   ]
  },
  {
   "cell_type": "code",
   "execution_count": 5,
   "metadata": {},
   "outputs": [],
   "source": [
    "# We want to keep : image and first category \n",
    "keepcols = [\"image\", \"first_category\"]\n",
    "df = df[keepcols]\n"
   ]
  },
  {
   "cell_type": "code",
   "execution_count": 6,
   "metadata": {},
   "outputs": [],
   "source": [
    "df.rename(columns={\"first_category\": \"category\", \"image\": \"image_name\"}, inplace=True)\n"
   ]
  },
  {
   "cell_type": "code",
   "execution_count": 7,
   "metadata": {},
   "outputs": [
    {
     "data": {
      "text/html": [
       "<div>\n",
       "<style scoped>\n",
       "    .dataframe tbody tr th:only-of-type {\n",
       "        vertical-align: middle;\n",
       "    }\n",
       "\n",
       "    .dataframe tbody tr th {\n",
       "        vertical-align: top;\n",
       "    }\n",
       "\n",
       "    .dataframe thead th {\n",
       "        text-align: right;\n",
       "    }\n",
       "</style>\n",
       "<table border=\"1\" class=\"dataframe\">\n",
       "  <thead>\n",
       "    <tr style=\"text-align: right;\">\n",
       "      <th></th>\n",
       "      <th>image_name</th>\n",
       "      <th>category</th>\n",
       "    </tr>\n",
       "  </thead>\n",
       "  <tbody>\n",
       "    <tr>\n",
       "      <th>0</th>\n",
       "      <td>55b85ea15a1536d46b7190ad6fff8ce7.jpg</td>\n",
       "      <td>home furnishing</td>\n",
       "    </tr>\n",
       "    <tr>\n",
       "      <th>1</th>\n",
       "      <td>7b72c92c2f6c40268628ec5f14c6d590.jpg</td>\n",
       "      <td>baby care</td>\n",
       "    </tr>\n",
       "    <tr>\n",
       "      <th>2</th>\n",
       "      <td>d4684dcdc759dd9cdf41504698d737d8.jpg</td>\n",
       "      <td>home furnishing</td>\n",
       "    </tr>\n",
       "    <tr>\n",
       "      <th>3</th>\n",
       "      <td>6325b6870c54cd47be6ebfbffa620ec7.jpg</td>\n",
       "      <td>home furnishing</td>\n",
       "    </tr>\n",
       "    <tr>\n",
       "      <th>4</th>\n",
       "      <td>893aa5ed55f7cff2eccea7758d7a86bd.jpg</td>\n",
       "      <td>watches</td>\n",
       "    </tr>\n",
       "  </tbody>\n",
       "</table>\n",
       "</div>"
      ],
      "text/plain": [
       "                             image_name         category\n",
       "0  55b85ea15a1536d46b7190ad6fff8ce7.jpg  home furnishing\n",
       "1  7b72c92c2f6c40268628ec5f14c6d590.jpg        baby care\n",
       "2  d4684dcdc759dd9cdf41504698d737d8.jpg  home furnishing\n",
       "3  6325b6870c54cd47be6ebfbffa620ec7.jpg  home furnishing\n",
       "4  893aa5ed55f7cff2eccea7758d7a86bd.jpg          watches"
      ]
     },
     "execution_count": 7,
     "metadata": {},
     "output_type": "execute_result"
    }
   ],
   "source": [
    "df.head()\n"
   ]
  },
  {
   "cell_type": "code",
   "execution_count": 8,
   "metadata": {},
   "outputs": [],
   "source": [
    "image_dir = \"../imgs/vgg_16/\"\n",
    "df_train, df_test = train_test_split(\n",
    "    df,\n",
    "    test_size=0.3,\n",
    "    stratify=df[\"category\"]  # ensure category harmony\n",
    "    )\n",
    "\n",
    "df_test.reset_index(inplace=True)  # resetting both indexes before iterating over them\n",
    "df_train.reset_index(inplace=True)\n"
   ]
  },
  {
   "cell_type": "code",
   "execution_count": 14,
   "metadata": {},
   "outputs": [],
   "source": [
    "height = 224\n",
    "width = height\n",
    "channel = 3  # RGB\n",
    "\n",
    "with h5py.File(\"../data/product_images.h5\", \"w\") as h5_file:\n",
    "    image_shape_train = (len(df_train), height, width, channel)\n",
    "    image_shape_test = (len(df_test), height, width, channel)\n",
    "\n",
    "    images_train = h5_file.create_dataset(\"images_train\", image_shape_train, dtype=\"uint8\")\n",
    "    categories_train = h5_file.create_dataset(\"category_train\", (len(df_train), ), dtype=h5py.special_dtype(vlen=str))\n",
    "\n",
    "    images_test = h5_file.create_dataset(\"images_test\", image_shape_test, dtype=\"uint8\")\n",
    "    categories_test = h5_file.create_dataset(\"category_test\", (len(df_test), ), dtype=h5py.special_dtype(vlen=str))\n",
    "\n",
    "    for index, row in df_train.iterrows():\n",
    "        image = cv2.imread(image_dir + row[\"image_name\"])\n",
    "        images_train[index] = image\n",
    "        categories_train[index] = row[\"category\"]\n",
    "\n",
    "    for index, row in df_test.iterrows():\n",
    "        image = cv2.imread(image_dir + row[\"image_name\"])\n",
    "        images_test[index] = image\n",
    "        categories_test[index] = row[\"category\"]\n"
   ]
  },
  {
   "cell_type": "code",
   "execution_count": 15,
   "metadata": {},
   "outputs": [
    {
     "name": "stdout",
     "output_type": "stream",
     "text": [
      "<KeysViewHDF5 ['category_test', 'category_train', 'images_test', 'images_train']>\n"
     ]
    }
   ],
   "source": [
    "with h5py.File(\"../data/product_images.h5\") as h5:\n",
    "    print(h5.keys())\n"
   ]
  }
 ],
 "metadata": {
  "kernelspec": {
   "display_name": "env",
   "language": "python",
   "name": "python3"
  },
  "language_info": {
   "codemirror_mode": {
    "name": "ipython",
    "version": 3
   },
   "file_extension": ".py",
   "mimetype": "text/x-python",
   "name": "python",
   "nbconvert_exporter": "python",
   "pygments_lexer": "ipython3",
   "version": "3.10.4 (v3.10.4:9d38120e33, Mar 23 2022, 17:29:05) [Clang 13.0.0 (clang-1300.0.29.30)]"
  },
  "orig_nbformat": 4,
  "vscode": {
   "interpreter": {
    "hash": "f56a869c4daa215a59dfefe9df0caca71d11de3c8dc85895ad84467caf29dffb"
   }
  }
 },
 "nbformat": 4,
 "nbformat_minor": 2
}
