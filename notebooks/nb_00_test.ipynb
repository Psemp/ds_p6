{
 "cells": [
  {
   "cell_type": "code",
   "execution_count": 1,
   "metadata": {},
   "outputs": [],
   "source": [
    "import pandas as pd\n",
    "import seaborn as sns\n",
    "import numpy as np\n",
    "import os\n",
    "import sys\n",
    "import wordcloud\n",
    "import spacy\n",
    "import re\n",
    "\n",
    "from matplotlib import pyplot as plt\n",
    "from dotenv import load_dotenv\n",
    "from collections import Counter\n",
    "from pandarallel import pandarallel\n"
   ]
  },
  {
   "cell_type": "code",
   "execution_count": 2,
   "metadata": {},
   "outputs": [],
   "source": [
    "df = pd.read_pickle(\"../data/ecomerce_cleaned.pkl\")\n"
   ]
  },
  {
   "cell_type": "code",
   "execution_count": 8,
   "metadata": {},
   "outputs": [],
   "source": [
    "nlp = spacy.load('en_core_web_lg')\n"
   ]
  },
  {
   "cell_type": "code",
   "execution_count": 9,
   "metadata": {},
   "outputs": [
    {
     "data": {
      "text/html": [
       "<div>\n",
       "<style scoped>\n",
       "    .dataframe tbody tr th:only-of-type {\n",
       "        vertical-align: middle;\n",
       "    }\n",
       "\n",
       "    .dataframe tbody tr th {\n",
       "        vertical-align: top;\n",
       "    }\n",
       "\n",
       "    .dataframe thead th {\n",
       "        text-align: right;\n",
       "    }\n",
       "</style>\n",
       "<table border=\"1\" class=\"dataframe\">\n",
       "  <thead>\n",
       "    <tr style=\"text-align: right;\">\n",
       "      <th></th>\n",
       "      <th>product_name</th>\n",
       "      <th>doc_desc</th>\n",
       "      <th>lem_desc</th>\n",
       "      <th>category_tree</th>\n",
       "      <th>product_specifications</th>\n",
       "      <th>image</th>\n",
       "      <th>description</th>\n",
       "    </tr>\n",
       "  </thead>\n",
       "  <tbody>\n",
       "    <tr>\n",
       "      <th>0</th>\n",
       "      <td>Elegance Polyester Multicolor Abstract Eyelet ...</td>\n",
       "      <td>(key, elegance, polyester, multicolor, abstrac...</td>\n",
       "      <td>[key, elegance, polyester, multicolor, abstrac...</td>\n",
       "      <td>[Home Furnishing, Curtains &amp; Accessories, Curt...</td>\n",
       "      <td>{\"product_specification\"=&gt;[{\"key\"=&gt;\"Brand\", \"v...</td>\n",
       "      <td>55b85ea15a1536d46b7190ad6fff8ce7.jpg</td>\n",
       "      <td>Key Features of Elegance Polyester Multicolor ...</td>\n",
       "    </tr>\n",
       "    <tr>\n",
       "      <th>1</th>\n",
       "      <td>Sathiyas Cotton Bath Towel</td>\n",
       "      <td>(sathiyas, cotton, bath, towel, bath, towel, r...</td>\n",
       "      <td>[sathiyas, cotton, bath, towel, bath, towel, r...</td>\n",
       "      <td>[Baby Care, Baby Bath &amp; Skin, Baby Bath Towels...</td>\n",
       "      <td>{\"product_specification\"=&gt;[{\"key\"=&gt;\"Machine Wa...</td>\n",
       "      <td>7b72c92c2f6c40268628ec5f14c6d590.jpg</td>\n",
       "      <td>Specifications of Sathiyas Cotton Bath Towel (...</td>\n",
       "    </tr>\n",
       "    <tr>\n",
       "      <th>2</th>\n",
       "      <td>SANTOSH ROYAL FASHION Cotton Printed King size...</td>\n",
       "      <td>(key, santosh, royal, fashion, cotton, print, ...</td>\n",
       "      <td>[key, santosh, royal, fashion, cotton, print, ...</td>\n",
       "      <td>[Home Furnishing, Bed Linen, Bedsheets, SANTOS...</td>\n",
       "      <td>{\"product_specification\"=&gt;[{\"key\"=&gt;\"Brand\", \"v...</td>\n",
       "      <td>d4684dcdc759dd9cdf41504698d737d8.jpg</td>\n",
       "      <td>Key Features of SANTOSH ROYAL FASHION Cotton P...</td>\n",
       "    </tr>\n",
       "    <tr>\n",
       "      <th>3</th>\n",
       "      <td>Jaipur Print Cotton Floral King sized Double B...</td>\n",
       "      <td>(key, jaipur, print, cotton, floral, king, siz...</td>\n",
       "      <td>[key, jaipur, print, cotton, floral, king, siz...</td>\n",
       "      <td>[Home Furnishing, Bed Linen, Bedsheets, Jaipur...</td>\n",
       "      <td>{\"product_specification\"=&gt;[{\"key\"=&gt;\"Machine Wa...</td>\n",
       "      <td>6325b6870c54cd47be6ebfbffa620ec7.jpg</td>\n",
       "      <td>Key Features of Jaipur Print Cotton Floral Kin...</td>\n",
       "    </tr>\n",
       "    <tr>\n",
       "      <th>4</th>\n",
       "      <td>Maserati Time R8851116001 Analog Watch  - For ...</td>\n",
       "      <td>(maserati, time, analog, watch, boy, maserati,...</td>\n",
       "      <td>[maserati, time, analog, watch, boy, maserati,...</td>\n",
       "      <td>[Watches, Wrist Watches]</td>\n",
       "      <td>{\"product_specification\"=&gt;[{\"key\"=&gt;\"Chronograp...</td>\n",
       "      <td>893aa5ed55f7cff2eccea7758d7a86bd.jpg</td>\n",
       "      <td>Maserati Time R8851116001 Analog Watch  - For ...</td>\n",
       "    </tr>\n",
       "  </tbody>\n",
       "</table>\n",
       "</div>"
      ],
      "text/plain": [
       "                                        product_name  \\\n",
       "0  Elegance Polyester Multicolor Abstract Eyelet ...   \n",
       "1                         Sathiyas Cotton Bath Towel   \n",
       "2  SANTOSH ROYAL FASHION Cotton Printed King size...   \n",
       "3  Jaipur Print Cotton Floral King sized Double B...   \n",
       "4  Maserati Time R8851116001 Analog Watch  - For ...   \n",
       "\n",
       "                                            doc_desc  \\\n",
       "0  (key, elegance, polyester, multicolor, abstrac...   \n",
       "1  (sathiyas, cotton, bath, towel, bath, towel, r...   \n",
       "2  (key, santosh, royal, fashion, cotton, print, ...   \n",
       "3  (key, jaipur, print, cotton, floral, king, siz...   \n",
       "4  (maserati, time, analog, watch, boy, maserati,...   \n",
       "\n",
       "                                            lem_desc  \\\n",
       "0  [key, elegance, polyester, multicolor, abstrac...   \n",
       "1  [sathiyas, cotton, bath, towel, bath, towel, r...   \n",
       "2  [key, santosh, royal, fashion, cotton, print, ...   \n",
       "3  [key, jaipur, print, cotton, floral, king, siz...   \n",
       "4  [maserati, time, analog, watch, boy, maserati,...   \n",
       "\n",
       "                                       category_tree  \\\n",
       "0  [Home Furnishing, Curtains & Accessories, Curt...   \n",
       "1  [Baby Care, Baby Bath & Skin, Baby Bath Towels...   \n",
       "2  [Home Furnishing, Bed Linen, Bedsheets, SANTOS...   \n",
       "3  [Home Furnishing, Bed Linen, Bedsheets, Jaipur...   \n",
       "4                           [Watches, Wrist Watches]   \n",
       "\n",
       "                              product_specifications  \\\n",
       "0  {\"product_specification\"=>[{\"key\"=>\"Brand\", \"v...   \n",
       "1  {\"product_specification\"=>[{\"key\"=>\"Machine Wa...   \n",
       "2  {\"product_specification\"=>[{\"key\"=>\"Brand\", \"v...   \n",
       "3  {\"product_specification\"=>[{\"key\"=>\"Machine Wa...   \n",
       "4  {\"product_specification\"=>[{\"key\"=>\"Chronograp...   \n",
       "\n",
       "                                  image  \\\n",
       "0  55b85ea15a1536d46b7190ad6fff8ce7.jpg   \n",
       "1  7b72c92c2f6c40268628ec5f14c6d590.jpg   \n",
       "2  d4684dcdc759dd9cdf41504698d737d8.jpg   \n",
       "3  6325b6870c54cd47be6ebfbffa620ec7.jpg   \n",
       "4  893aa5ed55f7cff2eccea7758d7a86bd.jpg   \n",
       "\n",
       "                                         description  \n",
       "0  Key Features of Elegance Polyester Multicolor ...  \n",
       "1  Specifications of Sathiyas Cotton Bath Towel (...  \n",
       "2  Key Features of SANTOSH ROYAL FASHION Cotton P...  \n",
       "3  Key Features of Jaipur Print Cotton Floral Kin...  \n",
       "4  Maserati Time R8851116001 Analog Watch  - For ...  "
      ]
     },
     "execution_count": 9,
     "metadata": {},
     "output_type": "execute_result"
    }
   ],
   "source": [
    "df.head()\n"
   ]
  },
  {
   "cell_type": "code",
   "execution_count": 10,
   "metadata": {},
   "outputs": [],
   "source": [
    "test_row = df.loc[[0]]\n"
   ]
  },
  {
   "cell_type": "code",
   "execution_count": 13,
   "metadata": {},
   "outputs": [],
   "source": [
    "doctest = test_row[\"doc_desc\"].values.tolist()[0]\n"
   ]
  },
  {
   "cell_type": "code",
   "execution_count": 17,
   "metadata": {},
   "outputs": [],
   "source": [
    "doc_vec = doctest.vector\n"
   ]
  },
  {
   "cell_type": "code",
   "execution_count": 18,
   "metadata": {},
   "outputs": [
    {
     "data": {
      "text/plain": [
       "array([-1.1214100e+00,  1.1116366e+00, -2.1201134e+00,  9.5828098e-01,\n",
       "        1.6870580e+00, -4.5854491e-01,  1.4598023e+00,  3.4953895e+00,\n",
       "       -3.2706838e+00,  8.4275120e-01,  5.8428059e+00,  3.5921052e-01,\n",
       "       -5.0005913e+00,  1.7587937e+00,  2.0478294e+00,  3.1696138e-01,\n",
       "        4.7377083e-01, -1.9357432e-01, -2.3749095e-01, -1.0592536e+00,\n",
       "       -2.9200593e-01,  4.6282995e-01,  6.1427695e-01, -1.4565198e+00,\n",
       "       -1.8658834e+00, -9.9461925e-01, -2.3367445e+00, -1.8865091e+00,\n",
       "       -9.0034503e-01,  6.2722170e-01, -1.2958884e-01, -6.9603372e-01,\n",
       "        1.1386508e+00, -1.9881946e+00,  2.0096634e-01, -3.2249041e-02,\n",
       "        4.7132808e-01,  1.6055372e+00,  2.0494983e+00,  5.2006185e-01,\n",
       "        3.2168067e-01, -9.7125930e-01,  2.1755566e-01, -4.7565314e-01,\n",
       "       -1.1733088e+00,  2.4479928e+00,  1.5893675e+00, -1.5629778e+00,\n",
       "        2.1847905e-01, -2.5694585e-01,  2.3457330e-01,  1.6120833e+00,\n",
       "       -4.1951600e-01, -2.5952144e+00, -1.7824423e+00,  1.3694015e+00,\n",
       "        2.1169735e-02,  1.3576713e+00,  1.4916029e+00,  2.3664421e-01,\n",
       "        1.0262322e+00, -9.8487848e-01, -1.9747070e+00, -1.1281362e+00,\n",
       "        2.2360794e-01,  9.0343255e-01, -3.0126767e+00, -3.3128245e+00,\n",
       "        2.1339177e-01,  2.0620508e+00, -1.6144912e+00,  2.9331389e-01,\n",
       "       -5.3861028e-01, -4.5917585e-01, -7.1702868e-01,  1.1610098e+00,\n",
       "       -5.2343363e-01, -1.6200252e-02, -1.5012298e+00,  9.0640180e-02,\n",
       "       -2.3317025e+00, -1.9575220e-01,  1.1462798e+00, -8.4635973e-01,\n",
       "        1.6635308e+00,  8.2542241e-02,  1.3505827e+00, -5.4438496e-01,\n",
       "       -7.8043187e-01,  7.4130255e-01, -9.4243234e-01,  2.4776537e+00,\n",
       "        2.4852018e+00, -2.5691280e+00,  1.3351185e+00, -1.5006248e+00,\n",
       "        2.6163831e+00, -9.7355902e-01,  4.0406263e-01,  1.8734652e-01,\n",
       "        2.3714231e-02,  7.1373038e-02,  2.1239076e+00,  1.5348775e+00,\n",
       "        8.2601506e-01,  1.4434472e+00, -2.1253245e+00, -1.5890162e+00,\n",
       "       -3.5690644e-01, -7.4870282e-01,  1.4121006e+00, -4.9106041e-01,\n",
       "        1.7300127e-01, -1.4025518e-01, -2.7414444e-01,  1.3551904e+00,\n",
       "       -9.0462053e-01, -2.2952852e+00,  1.1319453e+00, -9.4407356e-01,\n",
       "       -2.8801820e+00, -7.1876317e-01, -6.9454122e-01,  5.8562917e-01,\n",
       "       -2.2302300e-01, -1.4040354e+00,  3.9959803e-01, -2.0975142e+00,\n",
       "        3.4087758e+00, -1.9897462e-01, -3.7354605e+00,  3.7671486e-01,\n",
       "        2.9815745e+00,  2.5869729e-02, -1.6774794e+00, -1.7844576e+00,\n",
       "       -9.3234777e-01, -6.2860912e-01,  1.9295839e+00,  1.5981774e-01,\n",
       "       -1.7326792e-01,  2.9758239e-01, -1.0960652e-01, -9.5674820e-02,\n",
       "        1.0736431e+00, -9.5534956e-01, -3.4414284e+00,  2.6824674e-02,\n",
       "        1.7023020e+00,  2.5965466e+00, -3.9023629e-01,  2.6140463e-01,\n",
       "       -5.7595485e-01,  6.9084413e-02,  4.7667891e-01,  1.2474908e+00,\n",
       "        2.8840766e+00,  6.5789646e-01,  2.4518618e-01, -1.3657641e+00,\n",
       "       -9.2453122e-02, -5.8173269e-01,  7.4549997e-01,  5.2087873e-01,\n",
       "       -4.4633561e-01,  6.2982112e-01, -1.9418491e+00, -9.7731841e-01,\n",
       "       -2.4142414e-01, -5.4357344e-01,  3.9670128e-01,  3.9897406e-01,\n",
       "        7.0075762e-01,  2.8900161e-01,  1.0072483e+00, -2.1083052e-01,\n",
       "        6.4046490e-01,  2.7761602e-01, -6.5049529e-01, -2.1368132e+00,\n",
       "       -3.6000660e-01,  4.3576464e-01,  1.0447184e+00, -2.0032156e+00,\n",
       "       -1.5518465e+00, -5.9689832e-01,  8.0421776e-01, -2.3238561e+00,\n",
       "        4.7907747e-02,  1.3058500e+00,  4.2919639e-01,  4.4489282e-01,\n",
       "       -1.8350829e+00, -1.1972240e+00,  5.7244772e-01, -2.6365983e-01,\n",
       "       -2.0182867e+00,  1.9992366e-01,  3.0972606e-01,  2.0706397e-01,\n",
       "       -1.2339155e-01, -1.5546143e+00, -1.1113740e+00, -1.5640148e+00,\n",
       "       -2.7739841e-01, -4.3361849e-01, -2.8288946e+00,  1.8096874e+00,\n",
       "        2.0498414e-01, -1.5798273e+00,  2.0079706e+00,  3.0473807e-01,\n",
       "        9.0362519e-01,  1.9895444e+00, -3.3581549e-01,  1.7925649e+00,\n",
       "        1.7443526e+00, -1.3761022e+00, -2.7545583e+00, -3.6046675e-01,\n",
       "        1.3980527e-01,  1.4192064e+00, -1.7610623e+00, -3.9854595e-01,\n",
       "       -9.9800360e-01, -1.2643195e+00,  1.8035863e-01,  2.8081670e+00,\n",
       "        2.1116354e+00,  1.9264995e-01, -1.1350345e-01, -2.1176364e+00,\n",
       "        5.5536324e-01,  4.7731054e-01,  3.3660027e-01,  3.0291045e-01,\n",
       "       -8.5285640e-01,  1.4373181e+00,  1.5001222e+00,  1.4272966e+00,\n",
       "       -2.6209939e-01, -8.6836106e-01,  2.9855356e-01,  2.9692248e-01,\n",
       "        6.1953198e-02, -1.3398087e+00, -2.0728865e+00,  7.2726804e-01,\n",
       "       -5.0698346e-01,  5.5047357e-01, -6.1285090e-01, -1.3368608e-02,\n",
       "       -2.7187676e+00, -8.4478450e-01, -1.9378339e-01, -2.4457088e+00,\n",
       "        7.0478517e-01,  1.4683303e+00, -6.5362310e-01, -3.1005108e-01,\n",
       "       -1.7898473e-03,  3.3655341e+00, -2.8217506e-01,  1.2562373e+00,\n",
       "        1.3798571e+00, -5.1433420e-01, -1.1037805e+00,  2.2868894e-01,\n",
       "       -3.7051950e+00, -2.6569664e-01,  9.9522620e-01, -9.9846667e-01,\n",
       "       -1.0847863e+00, -9.4586760e-01, -1.3774550e+00, -1.4238278e+00,\n",
       "       -3.6617115e-01, -1.6563964e-01, -1.4518548e+00,  8.3126289e-01,\n",
       "        9.8907337e-02, -1.7432141e-01,  1.3337568e+00,  5.7091093e-01,\n",
       "        3.9094088e+00, -2.4099304e-01, -1.1710510e+00, -6.6525131e-01,\n",
       "       -1.7284580e+00,  8.6607200e-01,  3.2102238e-02,  3.6507040e-01,\n",
       "        1.7522628e+00, -9.4392806e-01, -1.2424229e+00,  8.8697948e-02,\n",
       "        8.5242110e-01, -5.1726359e-01, -2.1841061e+00,  3.9880265e-02],\n",
       "      dtype=float32)"
      ]
     },
     "execution_count": 18,
     "metadata": {},
     "output_type": "execute_result"
    }
   ],
   "source": [
    "doc_vec\n"
   ]
  },
  {
   "cell_type": "code",
   "execution_count": null,
   "metadata": {},
   "outputs": [],
   "source": []
  }
 ],
 "metadata": {
  "kernelspec": {
   "display_name": "Python 3.10.4 ('env': venv)",
   "language": "python",
   "name": "python3"
  },
  "language_info": {
   "codemirror_mode": {
    "name": "ipython",
    "version": 3
   },
   "file_extension": ".py",
   "mimetype": "text/x-python",
   "name": "python",
   "nbconvert_exporter": "python",
   "pygments_lexer": "ipython3",
   "version": "3.10.4"
  },
  "orig_nbformat": 4,
  "vscode": {
   "interpreter": {
    "hash": "f56a869c4daa215a59dfefe9df0caca71d11de3c8dc85895ad84467caf29dffb"
   }
  }
 },
 "nbformat": 4,
 "nbformat_minor": 2
}
