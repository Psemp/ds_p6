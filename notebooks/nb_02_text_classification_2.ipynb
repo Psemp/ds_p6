{
 "cells": [
  {
   "cell_type": "code",
   "execution_count": null,
   "metadata": {},
   "outputs": [],
   "source": [
    "import pandas as pd\n",
    "import seaborn as sns\n",
    "import numpy as np\n",
    "import os\n",
    "import spacy\n",
    "import re\n",
    "import time\n",
    "import warnings\n",
    "\n",
    "from tensorflow import keras, convert_to_tensor\n",
    "from transformers import BertTokenizer, TFBertForSequenceClassification\n",
    "from sklearn.model_selection import train_test_split\n",
    "from sklearn.preprocessing import LabelEncoder\n",
    "from sklearn.metrics import confusion_matrix, accuracy_score, classification_report\n",
    "from matplotlib import pyplot as plt\n",
    "from dotenv import load_dotenv\n",
    "\n",
    "load_dotenv()\n",
    "sns.color_palette('colorblind')\n",
    "plt.style.use('Solarize_Light2')\n",
    "\n",
    "# Setting default DPI, pulling it from dotenv if it exists, setting it on 100 if not\n",
    "\n",
    "try:\n",
    "    pc_dpi = int(os.getenv('DPI'))\n",
    "except TypeError:\n",
    "    pc_dpi = 100\n",
    "if pc_dpi is None:\n",
    "    pc_dpi = 100\n"
   ]
  },
  {
   "cell_type": "code",
   "execution_count": null,
   "metadata": {},
   "outputs": [],
   "source": [
    "# NLP object creation :\n",
    "\n",
    "nlp = spacy.load(\"en_core_web_lg\", disable=[\"tagger\", \"parser\", \"ner\"])  # disabling a few components should speed us up a bit\n"
   ]
  },
  {
   "cell_type": "code",
   "execution_count": null,
   "metadata": {},
   "outputs": [],
   "source": [
    "# Reading cleaned dataset, using pickle allows type preservation (spacy doc, np array etc.)\n",
    "\n",
    "df = pd.read_pickle(filepath_or_buffer=\"../data/ecommerce_cleaned.pkl\")\n"
   ]
  },
  {
   "cell_type": "code",
   "execution_count": null,
   "metadata": {},
   "outputs": [],
   "source": [
    "df.head(n=1)\n"
   ]
  },
  {
   "cell_type": "code",
   "execution_count": null,
   "metadata": {},
   "outputs": [],
   "source": [
    "df.columns\n"
   ]
  },
  {
   "cell_type": "code",
   "execution_count": null,
   "metadata": {},
   "outputs": [],
   "source": [
    "model_columns = [\"lem_desc\", \"first_category\"]\n",
    "df_model = df[model_columns].copy()\n"
   ]
  },
  {
   "cell_type": "code",
   "execution_count": null,
   "metadata": {},
   "outputs": [],
   "source": [
    "def list_to_str(row):\n",
    "    \"\"\"\n",
    "    Turns lem_desc, a list of tokens, into a string for CV and TF-IDF usage,\n",
    "    returns string\n",
    "    \"\"\"\n",
    "    desc_list = row[\"lem_desc\"]\n",
    "    desc_txt = \" \".join(desc_list)\n",
    "    return desc_txt\n",
    "\n"
   ]
  },
  {
   "cell_type": "code",
   "execution_count": null,
   "metadata": {},
   "outputs": [],
   "source": [
    "df_model.rename(columns={\"first_category\": \"category\"}, inplace=True)\n",
    "\n",
    "df_model[\"desc\"] = df_model.apply(list_to_str, axis=1)\n"
   ]
  },
  {
   "cell_type": "code",
   "execution_count": null,
   "metadata": {},
   "outputs": [],
   "source": [
    "le = LabelEncoder()\n",
    "\n",
    "df_model[\"enc_category\"] = le.fit_transform(df_model[\"category\"])\n"
   ]
  },
  {
   "cell_type": "code",
   "execution_count": null,
   "metadata": {},
   "outputs": [],
   "source": [
    "# Tokenizer\n",
    "tokenizer = BertTokenizer.from_pretrained(\"bert-base-uncased\")\n"
   ]
  },
  {
   "cell_type": "code",
   "execution_count": null,
   "metadata": {},
   "outputs": [],
   "source": [
    "# Checking the average lenght of the lists of token in lem_desc to adapt tensor size :\n",
    "\n",
    "def get_desc_len(row):\n",
    "    return int(len(row[\"lem_desc\"]))\n",
    "\n",
    "\n",
    "df_model[\"desc_size\"] = df_model.apply(func=get_desc_len, axis=1)\n",
    "\n",
    "df_model[\"desc_size\"].describe()\n"
   ]
  },
  {
   "cell_type": "code",
   "execution_count": null,
   "metadata": {},
   "outputs": [],
   "source": [
    "# Splitting before tokenizing :\n",
    "\n",
    "X_train, X_test, y_train, y_test = train_test_split(\n",
    "    df_model[\"desc\"],\n",
    "    df_model[\"enc_category\"],\n",
    "    test_size=0.30,\n",
    "    random_state=123\n",
    ")\n"
   ]
  },
  {
   "cell_type": "code",
   "execution_count": null,
   "metadata": {},
   "outputs": [],
   "source": [
    "X_test_tokenized = tokenizer.batch_encode_plus(\n",
    "    X_test.tolist(),\n",
    "    max_length=256,  # Reducing the default size of the tensor\n",
    "    padding=True,\n",
    "    return_tensors=\"tf\",\n",
    "    truncation=True\n",
    ")\n"
   ]
  },
  {
   "attachments": {},
   "cell_type": "markdown",
   "metadata": {},
   "source": [
    "Considering the min/q1/q3 and max of the description lenghts, lowering the tensor size to 256 might be faster without truncating too many descriptions and without too much unnecessary padding"
   ]
  },
  {
   "cell_type": "code",
   "execution_count": null,
   "metadata": {},
   "outputs": [],
   "source": [
    "# Tokenizing the training set :\n",
    "\n",
    "X_train_tokenized = tokenizer.batch_encode_plus(\n",
    "    X_train.tolist(),\n",
    "    max_length=256,  # Reducing the default size of the tensor\n",
    "    padding=True,\n",
    "    return_tensors=\"tf\",\n",
    "    truncation=True\n",
    ")\n"
   ]
  },
  {
   "cell_type": "code",
   "execution_count": null,
   "metadata": {},
   "outputs": [],
   "source": [
    "## Checking input tensors : (uncomment to check CLS and SEP (101 and 102))\n",
    "# X_train_tokenized[\"input_ids\"][0]\n"
   ]
  },
  {
   "cell_type": "code",
   "execution_count": null,
   "metadata": {},
   "outputs": [],
   "source": [
    "# Defining ins and outs tensors\n",
    "\n",
    "input_tensors = X_train_tokenized[\"input_ids\"]\n",
    "output_tensors = convert_to_tensor(y_train)\n",
    "\n",
    "unique_cat_count = df_model[\"enc_category\"].unique().__len__()\n"
   ]
  },
  {
   "cell_type": "code",
   "execution_count": null,
   "metadata": {},
   "outputs": [],
   "source": [
    "output_tensors = keras.utils.to_categorical(\n",
    "    output_tensors,\n",
    "    num_classes=unique_cat_count\n",
    "    )\n",
    "\n",
    "\n",
    "bert_model = TFBertForSequenceClassification.from_pretrained(\n",
    "    \"bert-base-uncased\",\n",
    "    num_labels=unique_cat_count\n",
    "    )\n",
    "\n",
    "# Use the CategoricalCrossentropy loss function\n",
    "loss = keras.losses.CategoricalCrossentropy(from_logits=True)\n",
    "optimizer = keras.optimizers.Adam()\n",
    "metric = keras.metrics.Accuracy(\"accuracy\")\n",
    "\n",
    "bert_model.compile(\n",
    "    loss=loss,\n",
    "    optimizer=optimizer,\n",
    "    metrics=[metric]\n",
    ")\n"
   ]
  },
  {
   "cell_type": "code",
   "execution_count": null,
   "metadata": {},
   "outputs": [],
   "source": [
    "time_fit_zero = time.perf_counter()\n",
    "\n",
    "bert_model.fit(input_tensors, output_tensors, epochs=2, verbose=1)\n",
    "\n",
    "time_fit_end = time.perf_counter()\n",
    "\n",
    "print(f\"Fitting took {time_fit_end - time_fit_zero} s\")\n"
   ]
  },
  {
   "cell_type": "code",
   "execution_count": null,
   "metadata": {},
   "outputs": [],
   "source": [
    "original_labels = np.argmax(output_tensors, axis=1)\n",
    "\n",
    "# Print the original labels\n",
    "print(original_labels)\n"
   ]
  },
  {
   "cell_type": "code",
   "execution_count": null,
   "metadata": {},
   "outputs": [],
   "source": [
    "test_tensors = X_test_tokenized[\"input_ids\"]"
   ]
  },
  {
   "cell_type": "code",
   "execution_count": null,
   "metadata": {},
   "outputs": [],
   "source": [
    "predictions = bert_model.predict(test_tensors)\n"
   ]
  },
  {
   "cell_type": "code",
   "execution_count": null,
   "metadata": {},
   "outputs": [],
   "source": [
    "original_test_labels = np.argmax(predictions[0], axis=1)"
   ]
  },
  {
   "cell_type": "code",
   "execution_count": null,
   "metadata": {},
   "outputs": [],
   "source": [
    "original_test_labels"
   ]
  },
  {
   "cell_type": "code",
   "execution_count": null,
   "metadata": {},
   "outputs": [],
   "source": [
    "print(accuracy_score(y_test, original_test_labels))\n"
   ]
  },
  {
   "cell_type": "code",
   "execution_count": null,
   "metadata": {},
   "outputs": [],
   "source": [
    "better_bert = TFBertForSequenceClassification.from_pretrained(\"bert-base-uncased-finetuned-mrpc\")\n"
   ]
  },
  {
   "cell_type": "code",
   "execution_count": null,
   "metadata": {},
   "outputs": [],
   "source": [
    "better_bert.compile(\n",
    "    loss=loss,\n",
    "    optimizer=optimizer,\n",
    "    metrics=[metric]\n",
    ")\n"
   ]
  },
  {
   "cell_type": "code",
   "execution_count": null,
   "metadata": {},
   "outputs": [],
   "source": [
    "time_fit_zero = time.perf_counter()\n",
    "\n",
    "better_bert.fit(input_tensors, output_tensors, epochs=2, verbose=1)\n",
    "\n",
    "time_fit_end = time.perf_counter()\n",
    "\n",
    "print(f\"Fitting took {time_fit_end - time_fit_zero} s\")\n"
   ]
  }
 ],
 "metadata": {
  "kernelspec": {
   "display_name": "env",
   "language": "python",
   "name": "python3"
  },
  "language_info": {
   "codemirror_mode": {
    "name": "ipython",
    "version": 3
   },
   "file_extension": ".py",
   "mimetype": "text/x-python",
   "name": "python",
   "nbconvert_exporter": "python",
   "pygments_lexer": "ipython3",
   "version": "3.10.6 (main, Nov 14 2022, 16:10:14) [GCC 11.3.0]"
  },
  "orig_nbformat": 4,
  "vscode": {
   "interpreter": {
    "hash": "cd9127e91a767f4f115bedc5540e14298c54e2216b04628db50a3830d4f9d16e"
   }
  }
 },
 "nbformat": 4,
 "nbformat_minor": 2
}
