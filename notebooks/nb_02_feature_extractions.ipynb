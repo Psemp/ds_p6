{
 "cells": [
  {
   "cell_type": "code",
   "execution_count": 1,
   "metadata": {},
   "outputs": [
    {
     "name": "stdout",
     "output_type": "stream",
     "text": [
      "INFO: Pandarallel will run on 8 workers.\n",
      "INFO: Pandarallel will use standard multiprocessing data transfer (pipe) to transfer data between the main process and workers.\n"
     ]
    }
   ],
   "source": [
    "import pandas as pd\n",
    "import seaborn as sns\n",
    "import numpy as np\n",
    "import os\n",
    "import sys\n",
    "import spacy\n",
    "import re\n",
    "import time\n",
    "import warnings\n",
    "\n",
    "from sklearn.feature_extraction.text import CountVectorizer, TfidfVectorizer\n",
    "from matplotlib import pyplot as plt\n",
    "from dotenv import load_dotenv\n",
    "from collections import Counter\n",
    "from umap import UMAP\n",
    "from pandarallel import pandarallel\n",
    "\n",
    "sys.path.append(\"../\")\n",
    "\n",
    "load_dotenv()\n",
    "sns.color_palette('colorblind')\n",
    "plt.style.use('Solarize_Light2')\n",
    "\n",
    "# Setting default DPI, pulling it from dotenv if it exists, setting it on 100 if not\n",
    "\n",
    "try:\n",
    "    pc_dpi = int(os.getenv('DPI'))\n",
    "except TypeError:\n",
    "    pc_dpi = 100\n",
    "if pc_dpi is None:\n",
    "    pc_dpi = 100\n",
    "\n",
    "pandarallel.initialize(progress_bar=True)\n"
   ]
  },
  {
   "cell_type": "code",
   "execution_count": 2,
   "metadata": {},
   "outputs": [],
   "source": [
    "# NLP object creation :\n",
    "\n",
    "nlp = spacy.load(\"en_core_web_lg\")\n",
    "\n",
    "# nlp._config  # Checking : tok2vec is in config by default.\n"
   ]
  },
  {
   "cell_type": "markdown",
   "metadata": {},
   "source": [
    "# Feature engineering :\n",
    "\n",
    "- Bag of words w/ sklearn.CountVectorizer\n",
    "- TF-IDF\n",
    "- Dimensional reduction of CV and Tf-Idf with UMAP reducer\n"
   ]
  },
  {
   "cell_type": "code",
   "execution_count": 3,
   "metadata": {},
   "outputs": [],
   "source": [
    "# Reading cleaned dataset, using pickle allows type preservation (spacy doc, np array etc.)\n",
    "\n",
    "df = pd.read_pickle(filepath_or_buffer=\"../data/ecommerce_cleaned.pkl\")\n"
   ]
  },
  {
   "cell_type": "code",
   "execution_count": 4,
   "metadata": {},
   "outputs": [
    {
     "data": {
      "text/html": [
       "<div>\n",
       "<style scoped>\n",
       "    .dataframe tbody tr th:only-of-type {\n",
       "        vertical-align: middle;\n",
       "    }\n",
       "\n",
       "    .dataframe tbody tr th {\n",
       "        vertical-align: top;\n",
       "    }\n",
       "\n",
       "    .dataframe thead th {\n",
       "        text-align: right;\n",
       "    }\n",
       "</style>\n",
       "<table border=\"1\" class=\"dataframe\">\n",
       "  <thead>\n",
       "    <tr style=\"text-align: right;\">\n",
       "      <th></th>\n",
       "      <th>product_name</th>\n",
       "      <th>doc_desc</th>\n",
       "      <th>lem_desc</th>\n",
       "      <th>category_tree</th>\n",
       "      <th>product_specifications</th>\n",
       "      <th>image</th>\n",
       "      <th>description</th>\n",
       "    </tr>\n",
       "  </thead>\n",
       "  <tbody>\n",
       "    <tr>\n",
       "      <th>0</th>\n",
       "      <td>Elegance Polyester Multicolor Abstract Eyelet ...</td>\n",
       "      <td>(key, elegance, polyester, multicolor, abstrac...</td>\n",
       "      <td>[key, elegance, polyester, multicolor, abstrac...</td>\n",
       "      <td>[Home Furnishing, Curtains &amp; Accessories, Curt...</td>\n",
       "      <td>{\"product_specification\"=&gt;[{\"key\"=&gt;\"Brand\", \"v...</td>\n",
       "      <td>55b85ea15a1536d46b7190ad6fff8ce7.jpg</td>\n",
       "      <td>Key Features of Elegance Polyester Multicolor ...</td>\n",
       "    </tr>\n",
       "  </tbody>\n",
       "</table>\n",
       "</div>"
      ],
      "text/plain": [
       "                                        product_name  \\\n",
       "0  Elegance Polyester Multicolor Abstract Eyelet ...   \n",
       "\n",
       "                                            doc_desc  \\\n",
       "0  (key, elegance, polyester, multicolor, abstrac...   \n",
       "\n",
       "                                            lem_desc  \\\n",
       "0  [key, elegance, polyester, multicolor, abstrac...   \n",
       "\n",
       "                                       category_tree  \\\n",
       "0  [Home Furnishing, Curtains & Accessories, Curt...   \n",
       "\n",
       "                              product_specifications  \\\n",
       "0  {\"product_specification\"=>[{\"key\"=>\"Brand\", \"v...   \n",
       "\n",
       "                                  image  \\\n",
       "0  55b85ea15a1536d46b7190ad6fff8ce7.jpg   \n",
       "\n",
       "                                         description  \n",
       "0  Key Features of Elegance Polyester Multicolor ...  "
      ]
     },
     "execution_count": 4,
     "metadata": {},
     "output_type": "execute_result"
    }
   ],
   "source": [
    "df.head(n=1)\n"
   ]
  },
  {
   "cell_type": "markdown",
   "metadata": {},
   "source": [
    "# Feature exctraction :\n",
    "&emsp;CountVectorizer & TfidfVectorizer on the whole corpus first"
   ]
  },
  {
   "cell_type": "code",
   "execution_count": 5,
   "metadata": {},
   "outputs": [],
   "source": [
    "# Stopwords have already been cleaned so we dont need to add them to the vectorizer\n",
    "\n",
    "count_vectorizer = CountVectorizer(tokenizer=nlp, max_df=0.95, min_df=1)\n",
    "tf_idf_vectorizer = TfidfVectorizer(tokenizer=nlp, max_df=0.95, min_df=1)\n"
   ]
  },
  {
   "cell_type": "code",
   "execution_count": 6,
   "metadata": {},
   "outputs": [],
   "source": [
    "def get_vector(row):\n",
    "    \"\"\"\n",
    "    returns the vector of the spacy.doc object in col doc_desc\n",
    "    \"\"\"\n",
    "    desc_doc = row[\"doc_desc\"]\n",
    "    desc_vec = desc_doc.vector\n",
    "    return desc_vec\n",
    "\n",
    "\n",
    "def list_to_str(row):\n",
    "    \"\"\"\n",
    "    Turns lem_desc, a list of tokens, into a string for CV and TF-IDF usage,\n",
    "    returns string\n",
    "    \"\"\"\n",
    "    desc_list = row[\"lem_desc\"]\n",
    "    desc_txt = \" \".join(desc_list)\n",
    "    return desc_txt\n"
   ]
  },
  {
   "cell_type": "code",
   "execution_count": 7,
   "metadata": {},
   "outputs": [],
   "source": [
    "df[\"text_vec\"] = df.apply(func=get_vector, axis=1)\n",
    "df[\"lem_desc_txt\"] = df.apply(func=list_to_str, axis=1)\n"
   ]
  },
  {
   "cell_type": "code",
   "execution_count": 8,
   "metadata": {},
   "outputs": [],
   "source": [
    "with warnings.catch_warnings():\n",
    "    warnings.simplefilter('ignore')\n",
    "    count_vectorizer_transform = count_vectorizer.fit_transform(df[\"lem_desc_txt\"])\n",
    "    tf_idf_transform = tf_idf_vectorizer.fit_transform(df[\"lem_desc_txt\"])\n"
   ]
  },
  {
   "cell_type": "code",
   "execution_count": 9,
   "metadata": {},
   "outputs": [
    {
     "name": "stdout",
     "output_type": "stream",
     "text": [
      "(1048, 39630)\n",
      "(1048, 39630)\n"
     ]
    }
   ],
   "source": [
    "print(count_vectorizer_transform.shape)\n",
    "print(tf_idf_transform.shape)\n"
   ]
  },
  {
   "cell_type": "code",
   "execution_count": 10,
   "metadata": {},
   "outputs": [
    {
     "data": {
      "text/plain": [
       "1048"
      ]
     },
     "execution_count": 10,
     "metadata": {},
     "output_type": "execute_result"
    }
   ],
   "source": [
    "df.__len__()\n"
   ]
  },
  {
   "cell_type": "markdown",
   "metadata": {},
   "source": [
    "# UMAP on vectors from count_vectorizer and tf-idf :\n",
    "\n",
    "- This allows to reduce the dimensions from 39630 to 2\n",
    "- UMAP is globally faster than T-SNE for often better results"
   ]
  },
  {
   "cell_type": "code",
   "execution_count": 11,
   "metadata": {},
   "outputs": [
    {
     "name": "stdout",
     "output_type": "stream",
     "text": [
      "(1048, 2)\n",
      "(1048, 2)\n"
     ]
    }
   ],
   "source": [
    "# Dimension reduction using UMAP, settings by default, 2 components\n",
    "\n",
    "umap = UMAP(n_components=2)\n",
    "\n",
    "umap_cv = umap.fit_transform(count_vectorizer_transform)\n",
    "umap_tfidf = umap.fit_transform(tf_idf_transform)\n",
    "\n",
    "print(umap_cv.shape)\n",
    "print(umap_tfidf.shape)\n"
   ]
  },
  {
   "cell_type": "markdown",
   "metadata": {},
   "source": [
    "### Assigning reduced components to df :\n",
    "\n",
    "- saving component 0 and 1 for CountVectorizer (umap_cv) and tf-idf (umap_tfidf)\n",
    "- assigning 2 cols for each method"
   ]
  },
  {
   "cell_type": "code",
   "execution_count": 12,
   "metadata": {},
   "outputs": [],
   "source": [
    "df[\"umap_cv_comp_0\"] = np.nan\n",
    "df[\"umap_cv_comp_1\"] = np.nan\n",
    "df[\"umap_tfidf_comp_0\"] = np.nan\n",
    "df[\"umap_tfidf_comp_1\"] = np.nan\n",
    "\n",
    "for index in range(0, len(df)):\n",
    "    df.loc[index, \"umap_cv_comp_0\"] = umap_cv[index][0]\n",
    "    df.loc[index, \"umap_cv_comp_1\"] = umap_cv[index][1]\n",
    "    df.loc[index, \"umap_tfidf_comp_0\"] = umap_tfidf[index][0]\n",
    "    df.loc[index, \"umap_tfidf_comp_1\"] = umap_tfidf[index][1]\n"
   ]
  },
  {
   "cell_type": "code",
   "execution_count": 13,
   "metadata": {},
   "outputs": [
    {
     "data": {
      "text/html": [
       "<div>\n",
       "<style scoped>\n",
       "    .dataframe tbody tr th:only-of-type {\n",
       "        vertical-align: middle;\n",
       "    }\n",
       "\n",
       "    .dataframe tbody tr th {\n",
       "        vertical-align: top;\n",
       "    }\n",
       "\n",
       "    .dataframe thead th {\n",
       "        text-align: right;\n",
       "    }\n",
       "</style>\n",
       "<table border=\"1\" class=\"dataframe\">\n",
       "  <thead>\n",
       "    <tr style=\"text-align: right;\">\n",
       "      <th></th>\n",
       "      <th>lem_desc_txt</th>\n",
       "      <th>umap_cv_comp_0</th>\n",
       "      <th>umap_cv_comp_1</th>\n",
       "      <th>umap_tfidf_comp_0</th>\n",
       "      <th>umap_tfidf_comp_1</th>\n",
       "    </tr>\n",
       "  </thead>\n",
       "  <tbody>\n",
       "    <tr>\n",
       "      <th>0</th>\n",
       "      <td>key elegance polyester multicolor abstract eye...</td>\n",
       "      <td>13.339216</td>\n",
       "      <td>5.509308</td>\n",
       "      <td>-2.302987</td>\n",
       "      <td>-2.012600</td>\n",
       "    </tr>\n",
       "    <tr>\n",
       "      <th>1</th>\n",
       "      <td>sathiyas cotton bath towel bath towel red yell...</td>\n",
       "      <td>12.946025</td>\n",
       "      <td>5.479076</td>\n",
       "      <td>-0.920405</td>\n",
       "      <td>1.489719</td>\n",
       "    </tr>\n",
       "    <tr>\n",
       "      <th>2</th>\n",
       "      <td>key santosh royal fashion cotton print king si...</td>\n",
       "      <td>10.251674</td>\n",
       "      <td>2.380722</td>\n",
       "      <td>-1.941139</td>\n",
       "      <td>-1.737872</td>\n",
       "    </tr>\n",
       "    <tr>\n",
       "      <th>3</th>\n",
       "      <td>key jaipur print cotton floral king size doubl...</td>\n",
       "      <td>12.310413</td>\n",
       "      <td>5.087021</td>\n",
       "      <td>-5.135172</td>\n",
       "      <td>5.910101</td>\n",
       "    </tr>\n",
       "    <tr>\n",
       "      <th>4</th>\n",
       "      <td>maserati time analog watch boy maserati time a...</td>\n",
       "      <td>10.461782</td>\n",
       "      <td>2.053916</td>\n",
       "      <td>-4.985846</td>\n",
       "      <td>0.771593</td>\n",
       "    </tr>\n",
       "    <tr>\n",
       "      <th>...</th>\n",
       "      <td>...</td>\n",
       "      <td>...</td>\n",
       "      <td>...</td>\n",
       "      <td>...</td>\n",
       "      <td>...</td>\n",
       "    </tr>\n",
       "    <tr>\n",
       "      <th>1043</th>\n",
       "      <td>empower extra large self adhesive sticker pack...</td>\n",
       "      <td>12.538563</td>\n",
       "      <td>4.357142</td>\n",
       "      <td>1.536660</td>\n",
       "      <td>1.411471</td>\n",
       "    </tr>\n",
       "    <tr>\n",
       "      <th>1044</th>\n",
       "      <td>wallmantra large vinyl sticker sticker pack br...</td>\n",
       "      <td>12.424451</td>\n",
       "      <td>4.302386</td>\n",
       "      <td>-3.849431</td>\n",
       "      <td>-0.466578</td>\n",
       "    </tr>\n",
       "    <tr>\n",
       "      <th>1045</th>\n",
       "      <td>uberlyfe extra large pigmented polyvinyl film ...</td>\n",
       "      <td>11.927685</td>\n",
       "      <td>4.421601</td>\n",
       "      <td>-4.167434</td>\n",
       "      <td>-0.598175</td>\n",
       "    </tr>\n",
       "    <tr>\n",
       "      <th>1046</th>\n",
       "      <td>wallmantra medium vinyl sticker sticker wallma...</td>\n",
       "      <td>12.306740</td>\n",
       "      <td>4.287863</td>\n",
       "      <td>-4.104576</td>\n",
       "      <td>-0.592719</td>\n",
       "    </tr>\n",
       "    <tr>\n",
       "      <th>1047</th>\n",
       "      <td>uberlyfe large vinyl sticker uberlyfe large vi...</td>\n",
       "      <td>12.135790</td>\n",
       "      <td>4.287979</td>\n",
       "      <td>-4.975384</td>\n",
       "      <td>5.577774</td>\n",
       "    </tr>\n",
       "  </tbody>\n",
       "</table>\n",
       "<p>1048 rows × 5 columns</p>\n",
       "</div>"
      ],
      "text/plain": [
       "                                           lem_desc_txt  umap_cv_comp_0  \\\n",
       "0     key elegance polyester multicolor abstract eye...       13.339216   \n",
       "1     sathiyas cotton bath towel bath towel red yell...       12.946025   \n",
       "2     key santosh royal fashion cotton print king si...       10.251674   \n",
       "3     key jaipur print cotton floral king size doubl...       12.310413   \n",
       "4     maserati time analog watch boy maserati time a...       10.461782   \n",
       "...                                                 ...             ...   \n",
       "1043  empower extra large self adhesive sticker pack...       12.538563   \n",
       "1044  wallmantra large vinyl sticker sticker pack br...       12.424451   \n",
       "1045  uberlyfe extra large pigmented polyvinyl film ...       11.927685   \n",
       "1046  wallmantra medium vinyl sticker sticker wallma...       12.306740   \n",
       "1047  uberlyfe large vinyl sticker uberlyfe large vi...       12.135790   \n",
       "\n",
       "      umap_cv_comp_1  umap_tfidf_comp_0  umap_tfidf_comp_1  \n",
       "0           5.509308          -2.302987          -2.012600  \n",
       "1           5.479076          -0.920405           1.489719  \n",
       "2           2.380722          -1.941139          -1.737872  \n",
       "3           5.087021          -5.135172           5.910101  \n",
       "4           2.053916          -4.985846           0.771593  \n",
       "...              ...                ...                ...  \n",
       "1043        4.357142           1.536660           1.411471  \n",
       "1044        4.302386          -3.849431          -0.466578  \n",
       "1045        4.421601          -4.167434          -0.598175  \n",
       "1046        4.287863          -4.104576          -0.592719  \n",
       "1047        4.287979          -4.975384           5.577774  \n",
       "\n",
       "[1048 rows x 5 columns]"
      ]
     },
     "metadata": {},
     "output_type": "display_data"
    }
   ],
   "source": [
    "# Display original text next to reduced components for cv and tf-idf :\n",
    "\n",
    "display_cols = [\n",
    "    \"lem_desc_txt\", \"umap_cv_comp_0\", \"umap_cv_comp_1\",\n",
    "    \"umap_tfidf_comp_0\", \"umap_tfidf_comp_1\"\n",
    "    ]\n",
    "\n",
    "display(df[display_cols])\n"
   ]
  }
 ],
 "metadata": {
  "kernelspec": {
   "display_name": "Python 3.10.4 ('env': venv)",
   "language": "python",
   "name": "python3"
  },
  "language_info": {
   "codemirror_mode": {
    "name": "ipython",
    "version": 3
   },
   "file_extension": ".py",
   "mimetype": "text/x-python",
   "name": "python",
   "nbconvert_exporter": "python",
   "pygments_lexer": "ipython3",
   "version": "3.10.4"
  },
  "orig_nbformat": 4,
  "vscode": {
   "interpreter": {
    "hash": "f56a869c4daa215a59dfefe9df0caca71d11de3c8dc85895ad84467caf29dffb"
   }
  }
 },
 "nbformat": 4,
 "nbformat_minor": 2
}
