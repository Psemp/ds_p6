{
 "cells": [
  {
   "cell_type": "code",
   "execution_count": 1,
   "metadata": {},
   "outputs": [
    {
     "name": "stdout",
     "output_type": "stream",
     "text": [
      "INFO: Pandarallel will run on 8 workers.\n",
      "INFO: Pandarallel will use standard multiprocessing data transfer (pipe) to transfer data between the main process and workers.\n"
     ]
    }
   ],
   "source": [
    "import pandas as pd\n",
    "import seaborn as sns\n",
    "import numpy as np\n",
    "import os\n",
    "import sys\n",
    "import spacy\n",
    "import re\n",
    "import time\n",
    "import warnings\n",
    "\n",
    "from sklearn.feature_extraction.text import CountVectorizer, TfidfVectorizer\n",
    "from matplotlib import pyplot as plt\n",
    "from dotenv import load_dotenv\n",
    "from collections import Counter\n",
    "from umap import UMAP\n",
    "from pandarallel import pandarallel\n",
    "\n",
    "sys.path.append(\"../\")\n",
    "\n",
    "load_dotenv()\n",
    "sns.color_palette('colorblind')\n",
    "plt.style.use('Solarize_Light2')\n",
    "\n",
    "# Setting default DPI, pulling it from dotenv if it exists, setting it on 100 if not\n",
    "\n",
    "try:\n",
    "    pc_dpi = int(os.getenv('DPI'))\n",
    "except TypeError:\n",
    "    pc_dpi = 100\n",
    "if pc_dpi is None:\n",
    "    pc_dpi = 100\n",
    "\n",
    "pandarallel.initialize(progress_bar=True)\n"
   ]
  },
  {
   "cell_type": "code",
   "execution_count": 2,
   "metadata": {},
   "outputs": [],
   "source": [
    "# NLP object creation :\n",
    "\n",
    "nlp = spacy.load(\"en_core_web_lg\")\n",
    "\n",
    "# nlp._config  # Checking : tok2vec is in config by default.\n"
   ]
  },
  {
   "cell_type": "markdown",
   "metadata": {},
   "source": [
    "Vectorization Feature Engineering (TF-IDF)\n"
   ]
  },
  {
   "cell_type": "code",
   "execution_count": 3,
   "metadata": {},
   "outputs": [],
   "source": [
    "df = pd.read_pickle(filepath_or_buffer=\"../data/ecommerce_cleaned.pkl\")\n"
   ]
  },
  {
   "cell_type": "code",
   "execution_count": 4,
   "metadata": {},
   "outputs": [
    {
     "data": {
      "text/html": [
       "<div>\n",
       "<style scoped>\n",
       "    .dataframe tbody tr th:only-of-type {\n",
       "        vertical-align: middle;\n",
       "    }\n",
       "\n",
       "    .dataframe tbody tr th {\n",
       "        vertical-align: top;\n",
       "    }\n",
       "\n",
       "    .dataframe thead th {\n",
       "        text-align: right;\n",
       "    }\n",
       "</style>\n",
       "<table border=\"1\" class=\"dataframe\">\n",
       "  <thead>\n",
       "    <tr style=\"text-align: right;\">\n",
       "      <th></th>\n",
       "      <th>product_name</th>\n",
       "      <th>doc_desc</th>\n",
       "      <th>lem_desc</th>\n",
       "      <th>category_tree</th>\n",
       "      <th>product_specifications</th>\n",
       "      <th>image</th>\n",
       "      <th>description</th>\n",
       "    </tr>\n",
       "  </thead>\n",
       "  <tbody>\n",
       "    <tr>\n",
       "      <th>0</th>\n",
       "      <td>Elegance Polyester Multicolor Abstract Eyelet ...</td>\n",
       "      <td>(key, elegance, polyester, multicolor, abstrac...</td>\n",
       "      <td>[key, elegance, polyester, multicolor, abstrac...</td>\n",
       "      <td>[Home Furnishing, Curtains &amp; Accessories, Curt...</td>\n",
       "      <td>{\"product_specification\"=&gt;[{\"key\"=&gt;\"Brand\", \"v...</td>\n",
       "      <td>55b85ea15a1536d46b7190ad6fff8ce7.jpg</td>\n",
       "      <td>Key Features of Elegance Polyester Multicolor ...</td>\n",
       "    </tr>\n",
       "  </tbody>\n",
       "</table>\n",
       "</div>"
      ],
      "text/plain": [
       "                                        product_name  \\\n",
       "0  Elegance Polyester Multicolor Abstract Eyelet ...   \n",
       "\n",
       "                                            doc_desc  \\\n",
       "0  (key, elegance, polyester, multicolor, abstrac...   \n",
       "\n",
       "                                            lem_desc  \\\n",
       "0  [key, elegance, polyester, multicolor, abstrac...   \n",
       "\n",
       "                                       category_tree  \\\n",
       "0  [Home Furnishing, Curtains & Accessories, Curt...   \n",
       "\n",
       "                              product_specifications  \\\n",
       "0  {\"product_specification\"=>[{\"key\"=>\"Brand\", \"v...   \n",
       "\n",
       "                                  image  \\\n",
       "0  55b85ea15a1536d46b7190ad6fff8ce7.jpg   \n",
       "\n",
       "                                         description  \n",
       "0  Key Features of Elegance Polyester Multicolor ...  "
      ]
     },
     "execution_count": 4,
     "metadata": {},
     "output_type": "execute_result"
    }
   ],
   "source": [
    "df.head(n=1)\n"
   ]
  },
  {
   "cell_type": "code",
   "execution_count": 5,
   "metadata": {},
   "outputs": [],
   "source": [
    "# Stopwords have already been cleaned so we dont need to add them to the vectorizer\n",
    "\n",
    "bag_of_words_vectorizer = CountVectorizer(tokenizer=nlp, max_df=0.95, min_df=1)\n",
    "tf_idf_vectorizer = TfidfVectorizer(tokenizer=nlp, max_df=0.95, min_df=1)\n"
   ]
  },
  {
   "cell_type": "code",
   "execution_count": 6,
   "metadata": {},
   "outputs": [],
   "source": [
    "def get_vector(row):\n",
    "    tweet_doc = row[\"doc_desc\"]\n",
    "    tweet_vec = tweet_doc.vector\n",
    "    return tweet_vec\n",
    "\n",
    "\n",
    "def list_to_str(row):\n",
    "    desc_list = row[\"lem_desc\"]\n",
    "    desc_txt = \" \".join(desc_list)\n",
    "    return desc_txt\n"
   ]
  },
  {
   "cell_type": "code",
   "execution_count": 7,
   "metadata": {},
   "outputs": [],
   "source": [
    "df[\"text_vec\"] = df.apply(func=get_vector, axis=1)\n",
    "df[\"lem_desc_txt\"] = df.apply(func=list_to_str, axis=1)\n"
   ]
  },
  {
   "cell_type": "code",
   "execution_count": 8,
   "metadata": {},
   "outputs": [],
   "source": [
    "with warnings.catch_warnings():\n",
    "    warnings.simplefilter('ignore')\n",
    "    bag_of_words_vectorizer.fit(df[\"lem_desc_txt\"])\n",
    "    tf_idf_vectorizer.fit(df[\"lem_desc_txt\"])\n"
   ]
  },
  {
   "cell_type": "code",
   "execution_count": 9,
   "metadata": {},
   "outputs": [],
   "source": [
    "count_vectorizer_transform = bag_of_words_vectorizer.transform(df[\"lem_desc_txt\"])\n",
    "tf_idf_transform = tf_idf_vectorizer.transform(df[\"lem_desc_txt\"])\n"
   ]
  },
  {
   "cell_type": "code",
   "execution_count": 10,
   "metadata": {},
   "outputs": [
    {
     "name": "stdout",
     "output_type": "stream",
     "text": [
      "(1048, 39630)\n",
      "(1048, 39630)\n"
     ]
    }
   ],
   "source": [
    "print(count_vectorizer_transform.shape)\n",
    "print(tf_idf_transform.shape)\n"
   ]
  },
  {
   "cell_type": "code",
   "execution_count": 11,
   "metadata": {},
   "outputs": [
    {
     "data": {
      "text/plain": [
       "1048"
      ]
     },
     "execution_count": 11,
     "metadata": {},
     "output_type": "execute_result"
    }
   ],
   "source": [
    "df.__len__()\n"
   ]
  },
  {
   "cell_type": "code",
   "execution_count": 12,
   "metadata": {},
   "outputs": [
    {
     "name": "stdout",
     "output_type": "stream",
     "text": [
      "(1048, 2)\n",
      "(1048, 2)\n"
     ]
    }
   ],
   "source": [
    "# Dimension reduction using UMAP, settings by default, 2 components\n",
    "\n",
    "umap = UMAP(n_components=2)\n",
    "\n",
    "umap_cv = umap.fit_transform(count_vectorizer_transform)\n",
    "umap_tfidf = umap.fit_transform(tf_idf_transform)\n",
    "\n",
    "print(umap_cv.shape)\n",
    "print(umap_tfidf.shape)\n"
   ]
  },
  {
   "cell_type": "code",
   "execution_count": 13,
   "metadata": {},
   "outputs": [],
   "source": [
    "df[\"umap_cv_comp_0\"] = np.nan\n",
    "df[\"umap_cv_comp_1\"] = np.nan\n",
    "df[\"umap_tfidf_comp_0\"] = np.nan\n",
    "df[\"umap_tfidf_comp_1\"] = np.nan\n",
    "\n",
    "for index in range(0, len(df)):\n",
    "    df.loc[index, \"umap_cv_comp_0\"] = umap_cv[index][0]\n",
    "    df.loc[index, \"umap_cv_comp_1\"] = umap_cv[index][1]\n",
    "    df.loc[index, \"umap_tfidf_comp_0\"] = umap_tfidf[index][0]\n",
    "    df.loc[index, \"umap_tfidf_comp_1\"] = umap_tfidf[index][1]\n"
   ]
  },
  {
   "cell_type": "code",
   "execution_count": 14,
   "metadata": {},
   "outputs": [
    {
     "data": {
      "text/html": [
       "<div>\n",
       "<style scoped>\n",
       "    .dataframe tbody tr th:only-of-type {\n",
       "        vertical-align: middle;\n",
       "    }\n",
       "\n",
       "    .dataframe tbody tr th {\n",
       "        vertical-align: top;\n",
       "    }\n",
       "\n",
       "    .dataframe thead th {\n",
       "        text-align: right;\n",
       "    }\n",
       "</style>\n",
       "<table border=\"1\" class=\"dataframe\">\n",
       "  <thead>\n",
       "    <tr style=\"text-align: right;\">\n",
       "      <th></th>\n",
       "      <th>lem_desc_txt</th>\n",
       "      <th>umap_cv_comp_0</th>\n",
       "      <th>umap_cv_comp_1</th>\n",
       "      <th>umap_tfidf_comp_0</th>\n",
       "      <th>umap_tfidf_comp_1</th>\n",
       "    </tr>\n",
       "  </thead>\n",
       "  <tbody>\n",
       "    <tr>\n",
       "      <th>0</th>\n",
       "      <td>key elegance polyester multicolor abstract eye...</td>\n",
       "      <td>-0.482895</td>\n",
       "      <td>4.855195</td>\n",
       "      <td>6.682447</td>\n",
       "      <td>5.726218</td>\n",
       "    </tr>\n",
       "    <tr>\n",
       "      <th>1</th>\n",
       "      <td>sathiyas cotton bath towel bath towel red yell...</td>\n",
       "      <td>-1.744056</td>\n",
       "      <td>1.868726</td>\n",
       "      <td>7.616164</td>\n",
       "      <td>5.646738</td>\n",
       "    </tr>\n",
       "    <tr>\n",
       "      <th>2</th>\n",
       "      <td>key santosh royal fashion cotton print king si...</td>\n",
       "      <td>-1.068458</td>\n",
       "      <td>4.428407</td>\n",
       "      <td>7.672042</td>\n",
       "      <td>5.513602</td>\n",
       "    </tr>\n",
       "    <tr>\n",
       "      <th>3</th>\n",
       "      <td>key jaipur print cotton floral king size doubl...</td>\n",
       "      <td>-0.992517</td>\n",
       "      <td>0.969484</td>\n",
       "      <td>7.109655</td>\n",
       "      <td>5.864190</td>\n",
       "    </tr>\n",
       "    <tr>\n",
       "      <th>4</th>\n",
       "      <td>maserati time analog watch boy maserati time a...</td>\n",
       "      <td>-0.198330</td>\n",
       "      <td>5.105917</td>\n",
       "      <td>4.593555</td>\n",
       "      <td>5.320143</td>\n",
       "    </tr>\n",
       "    <tr>\n",
       "      <th>...</th>\n",
       "      <td>...</td>\n",
       "      <td>...</td>\n",
       "      <td>...</td>\n",
       "      <td>...</td>\n",
       "      <td>...</td>\n",
       "    </tr>\n",
       "    <tr>\n",
       "      <th>1043</th>\n",
       "      <td>empower extra large self adhesive sticker pack...</td>\n",
       "      <td>0.233520</td>\n",
       "      <td>4.172408</td>\n",
       "      <td>7.123092</td>\n",
       "      <td>4.136333</td>\n",
       "    </tr>\n",
       "    <tr>\n",
       "      <th>1044</th>\n",
       "      <td>wallmantra large vinyl sticker sticker pack br...</td>\n",
       "      <td>0.528329</td>\n",
       "      <td>3.956614</td>\n",
       "      <td>6.909503</td>\n",
       "      <td>4.222368</td>\n",
       "    </tr>\n",
       "    <tr>\n",
       "      <th>1045</th>\n",
       "      <td>uberlyfe extra large pigmented polyvinyl film ...</td>\n",
       "      <td>0.480174</td>\n",
       "      <td>3.816401</td>\n",
       "      <td>7.292850</td>\n",
       "      <td>3.933069</td>\n",
       "    </tr>\n",
       "    <tr>\n",
       "      <th>1046</th>\n",
       "      <td>wallmantra medium vinyl sticker sticker wallma...</td>\n",
       "      <td>0.500884</td>\n",
       "      <td>4.264706</td>\n",
       "      <td>6.713336</td>\n",
       "      <td>3.836522</td>\n",
       "    </tr>\n",
       "    <tr>\n",
       "      <th>1047</th>\n",
       "      <td>uberlyfe large vinyl sticker uberlyfe large vi...</td>\n",
       "      <td>0.516388</td>\n",
       "      <td>3.994287</td>\n",
       "      <td>6.921126</td>\n",
       "      <td>4.272157</td>\n",
       "    </tr>\n",
       "  </tbody>\n",
       "</table>\n",
       "<p>1048 rows × 5 columns</p>\n",
       "</div>"
      ],
      "text/plain": [
       "                                           lem_desc_txt  umap_cv_comp_0  \\\n",
       "0     key elegance polyester multicolor abstract eye...       -0.482895   \n",
       "1     sathiyas cotton bath towel bath towel red yell...       -1.744056   \n",
       "2     key santosh royal fashion cotton print king si...       -1.068458   \n",
       "3     key jaipur print cotton floral king size doubl...       -0.992517   \n",
       "4     maserati time analog watch boy maserati time a...       -0.198330   \n",
       "...                                                 ...             ...   \n",
       "1043  empower extra large self adhesive sticker pack...        0.233520   \n",
       "1044  wallmantra large vinyl sticker sticker pack br...        0.528329   \n",
       "1045  uberlyfe extra large pigmented polyvinyl film ...        0.480174   \n",
       "1046  wallmantra medium vinyl sticker sticker wallma...        0.500884   \n",
       "1047  uberlyfe large vinyl sticker uberlyfe large vi...        0.516388   \n",
       "\n",
       "      umap_cv_comp_1  umap_tfidf_comp_0  umap_tfidf_comp_1  \n",
       "0           4.855195           6.682447           5.726218  \n",
       "1           1.868726           7.616164           5.646738  \n",
       "2           4.428407           7.672042           5.513602  \n",
       "3           0.969484           7.109655           5.864190  \n",
       "4           5.105917           4.593555           5.320143  \n",
       "...              ...                ...                ...  \n",
       "1043        4.172408           7.123092           4.136333  \n",
       "1044        3.956614           6.909503           4.222368  \n",
       "1045        3.816401           7.292850           3.933069  \n",
       "1046        4.264706           6.713336           3.836522  \n",
       "1047        3.994287           6.921126           4.272157  \n",
       "\n",
       "[1048 rows x 5 columns]"
      ]
     },
     "metadata": {},
     "output_type": "display_data"
    }
   ],
   "source": [
    "display_cols = [\n",
    "    \"lem_desc_txt\", \"umap_cv_comp_0\", \"umap_cv_comp_1\",\n",
    "    \"umap_tfidf_comp_0\", \"umap_tfidf_comp_1\"\n",
    "    ]\n",
    "\n",
    "display(df[display_cols])\n"
   ]
  },
  {
   "cell_type": "code",
   "execution_count": null,
   "metadata": {},
   "outputs": [],
   "source": []
  }
 ],
 "metadata": {
  "kernelspec": {
   "display_name": "Python 3.10.4 ('env': venv)",
   "language": "python",
   "name": "python3"
  },
  "language_info": {
   "codemirror_mode": {
    "name": "ipython",
    "version": 3
   },
   "file_extension": ".py",
   "mimetype": "text/x-python",
   "name": "python",
   "nbconvert_exporter": "python",
   "pygments_lexer": "ipython3",
   "version": "3.10.4"
  },
  "orig_nbformat": 4,
  "vscode": {
   "interpreter": {
    "hash": "f56a869c4daa215a59dfefe9df0caca71d11de3c8dc85895ad84467caf29dffb"
   }
  }
 },
 "nbformat": 4,
 "nbformat_minor": 2
}
